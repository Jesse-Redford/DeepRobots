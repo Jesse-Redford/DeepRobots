{
 "cells": [
  {
   "cell_type": "markdown",
   "metadata": {},
   "source": [
    "# Preprocessing Pipeline"
   ]
  },
  {
   "cell_type": "code",
   "execution_count": 33,
   "metadata": {},
   "outputs": [],
   "source": [
    "import numpy as np\n",
    "import pandas as pd\n",
    "from matplotlib import pyplot as plt"
   ]
  },
  {
   "cell_type": "code",
   "execution_count": 34,
   "metadata": {},
   "outputs": [],
   "source": [
    "rewards = pd.read_csv(\"rewards.csv\") \n",
    "loss = pd.read_csv(\"loss.csv\") \n",
    "mean_q = pd.read_csv(\"q_value.csv\") "
   ]
  },
  {
   "cell_type": "code",
   "execution_count": 35,
   "metadata": {},
   "outputs": [
    {
     "name": "stdout",
     "output_type": "stream",
     "text": [
      "767\n",
      "89000\n",
      "89000\n"
     ]
    }
   ],
   "source": [
    "print(len(rewards))\n",
    "print(len(loss))\n",
    "print(len(mean_q))"
   ]
  },
  {
   "cell_type": "code",
   "execution_count": 36,
   "metadata": {},
   "outputs": [
    {
     "name": "stdout",
     "output_type": "stream",
     "text": [
      "     Unnamed: 0      0\n",
      "0             0   28.0\n",
      "1             1   18.0\n",
      "2             2   13.0\n",
      "3             3   13.0\n",
      "4             4   61.0\n",
      "5             5   28.0\n",
      "6             6   32.0\n",
      "7             7   15.0\n",
      "8             8   29.0\n",
      "9             9   15.0\n",
      "10           10   11.0\n",
      "11           11   16.0\n",
      "12           12   68.0\n",
      "13           13   14.0\n",
      "14           14   19.0\n",
      "15           15   10.0\n",
      "16           16   17.0\n",
      "17           17   22.0\n",
      "18           18   19.0\n",
      "19           19   12.0\n",
      "20           20   43.0\n",
      "21           21   36.0\n",
      "22           22   10.0\n",
      "23           23   12.0\n",
      "24           24   10.0\n",
      "25           25   12.0\n",
      "26           26   23.0\n",
      "27           27   22.0\n",
      "28           28   16.0\n",
      "29           29   28.0\n",
      "..          ...    ...\n",
      "737         737  200.0\n",
      "738         738  200.0\n",
      "739         739  200.0\n",
      "740         740  200.0\n",
      "741         741  200.0\n",
      "742         742  200.0\n",
      "743         743  200.0\n",
      "744         744  200.0\n",
      "745         745  200.0\n",
      "746         746  200.0\n",
      "747         747  200.0\n",
      "748         748  200.0\n",
      "749         749  200.0\n",
      "750         750  200.0\n",
      "751         751  200.0\n",
      "752         752  200.0\n",
      "753         753  200.0\n",
      "754         754  200.0\n",
      "755         755  200.0\n",
      "756         756  200.0\n",
      "757         757  200.0\n",
      "758         758  200.0\n",
      "759         759  200.0\n",
      "760         760  200.0\n",
      "761         761  200.0\n",
      "762         762  200.0\n",
      "763         763  200.0\n",
      "764         764  200.0\n",
      "765         765  200.0\n",
      "766         766  171.0\n",
      "\n",
      "[767 rows x 2 columns]\n",
      "       Unnamed: 0          0\n",
      "0               0   0.544379\n",
      "1               1   0.377094\n",
      "2               2   0.382566\n",
      "3               3   0.244807\n",
      "4               4   0.254019\n",
      "5               5   0.223733\n",
      "6               6   0.159914\n",
      "7               7   0.163867\n",
      "8               8   0.130864\n",
      "9               9   0.216152\n",
      "10             10   0.165604\n",
      "11             11   0.120197\n",
      "12             12   0.142273\n",
      "13             13   0.177746\n",
      "14             14   0.163423\n",
      "15             15   0.148041\n",
      "16             16   0.145949\n",
      "17             17   0.091357\n",
      "18             18   0.176112\n",
      "19             19   0.099215\n",
      "20             20   0.118421\n",
      "21             21   0.101721\n",
      "22             22   0.082164\n",
      "23             23   0.072652\n",
      "24             24   0.083329\n",
      "25             25   0.060023\n",
      "26             26   0.088517\n",
      "27             27   0.088890\n",
      "28             28   0.071731\n",
      "29             29   0.054231\n",
      "...           ...        ...\n",
      "88970       88970   0.003282\n",
      "88971       88971   5.712470\n",
      "88972       88972   5.721512\n",
      "88973       88973   0.002289\n",
      "88974       88974   0.007098\n",
      "88975       88975   0.000970\n",
      "88976       88976   0.010565\n",
      "88977       88977   0.000788\n",
      "88978       88978   0.004854\n",
      "88979       88979   0.001329\n",
      "88980       88980   0.005347\n",
      "88981       88981   0.001150\n",
      "88982       88982   0.005896\n",
      "88983       88983   0.000935\n",
      "88984       88984   0.006434\n",
      "88985       88985   0.000954\n",
      "88986       88986   0.005118\n",
      "88987       88987  11.421046\n",
      "88988       88988   0.026892\n",
      "88989       88989   0.020829\n",
      "88990       88990   0.004534\n",
      "88991       88991   0.011166\n",
      "88992       88992   0.002012\n",
      "88993       88993   0.010144\n",
      "88994       88994   0.002139\n",
      "88995       88995   0.006946\n",
      "88996       88996   0.002660\n",
      "88997       88997   0.007866\n",
      "88998       88998   5.717946\n",
      "88999       88999   0.002826\n",
      "\n",
      "[89000 rows x 2 columns]\n",
      "       Unnamed: 0           0\n",
      "0               0    0.159388\n",
      "1               1    0.331826\n",
      "2               2    0.339162\n",
      "3               3    0.512192\n",
      "4               4    0.564125\n",
      "5               5    0.674717\n",
      "6               6    0.875751\n",
      "7               7    0.980614\n",
      "8               8    1.275106\n",
      "9               9    1.056813\n",
      "10             10    1.095632\n",
      "11             11    1.162476\n",
      "12             12    0.984575\n",
      "13             13    0.881069\n",
      "14             14    0.888344\n",
      "15             15    0.991403\n",
      "16             16    0.889544\n",
      "17             17    0.864912\n",
      "18             18    0.867278\n",
      "19             19    0.767996\n",
      "20             20    0.809375\n",
      "21             21    0.891727\n",
      "22             22    0.961989\n",
      "23             23    0.977221\n",
      "24             24    1.002282\n",
      "25             25    0.901082\n",
      "26             26    0.979580\n",
      "27             27    1.101675\n",
      "28             28    1.028439\n",
      "29             29    1.095575\n",
      "...           ...         ...\n",
      "88970       88970  184.891450\n",
      "88971       88971  184.333100\n",
      "88972       88972  184.592380\n",
      "88973       88973  184.508270\n",
      "88974       88974  184.701070\n",
      "88975       88975  184.769230\n",
      "88976       88976  184.606080\n",
      "88977       88977  184.617680\n",
      "88978       88978  184.777590\n",
      "88979       88979  184.969450\n",
      "88980       88980  184.273960\n",
      "88981       88981  184.761870\n",
      "88982       88982  184.934500\n",
      "88983       88983  184.751980\n",
      "88984       88984  184.721830\n",
      "88985       88985  185.094730\n",
      "88986       88986  184.772610\n",
      "88987       88987  184.543840\n",
      "88988       88988  184.313580\n",
      "88989       88989  184.373380\n",
      "88990       88990  184.680400\n",
      "88991       88991  184.972870\n",
      "88992       88992  184.632020\n",
      "88993       88993  184.516850\n",
      "88994       88994  184.830720\n",
      "88995       88995  184.943760\n",
      "88996       88996  184.737840\n",
      "88997       88997  184.535640\n",
      "88998       88998  184.717070\n",
      "88999       88999  184.906000\n",
      "\n",
      "[89000 rows x 2 columns]\n"
     ]
    }
   ],
   "source": [
    "print(rewards)\n",
    "print(loss)\n",
    "print(mean_q)"
   ]
  },
  {
   "cell_type": "code",
   "execution_count": 37,
   "metadata": {},
   "outputs": [
    {
     "data": {
      "text/plain": [
       "<matplotlib.axes._subplots.AxesSubplot at 0x11719f710>"
      ]
     },
     "execution_count": 37,
     "metadata": {},
     "output_type": "execute_result"
    },
    {
     "data": {
      "image/png": "[encoded data removed]",
      "text/plain": [
       "<Figure size 432x288 with 1 Axes>"
      ]
     },
     "metadata": {
      "needs_background": "light"
     },
     "output_type": "display_data"
    }
   ],
   "source": [
    "rewards.plot(x ='Unnamed: 0', y='0', kind = 'line')"
   ]
  },
  {
   "cell_type": "code",
   "execution_count": 38,
   "metadata": {},
   "outputs": [
    {
     "data": {
      "text/plain": [
       "<matplotlib.axes._subplots.AxesSubplot at 0x1173d6fd0>"
      ]
     },
     "execution_count": 38,
     "metadata": {},
     "output_type": "execute_result"
    },
    {
     "data": {
      "image/png": "[encoded data removed]",
      "text/plain": [
       "<Figure size 432x288 with 1 Axes>"
      ]
     },
     "metadata": {
      "needs_background": "light"
     },
     "output_type": "display_data"
    }
   ],
   "source": [
    "loss.plot(x ='Unnamed: 0', y='0', kind = 'line')"
   ]
  },
  {
   "cell_type": "code",
   "execution_count": 39,
   "metadata": {},
   "outputs": [
    {
     "data": {
      "text/plain": [
       "<matplotlib.axes._subplots.AxesSubplot at 0x1173d6e48>"
      ]
     },
     "execution_count": 39,
     "metadata": {},
     "output_type": "execute_result"
    },
    {
     "data": {
      "image/png": "[encoded data removed]",
      "text/plain": [
       "<Figure size 432x288 with 1 Axes>"
      ]
     },
     "metadata": {
      "needs_background": "light"
     },
     "output_type": "display_data"
    }
   ],
   "source": [
    "mean_q.plot(x ='Unnamed: 0', y='0', kind = 'line')"
   ]
  },
  {
   "cell_type": "code",
   "execution_count": null,
   "metadata": {},
   "outputs": [],
   "source": [
    "import gym\n",
    "\n",
    "from baselines import enhanceddeepq\n",
    "\n",
    "# modify this\n",
    "env = gym.make(\"CartPole-v0\")\n",
    "act = enhanceddeepq.learn(env, network='mlp', total_timesteps=0, load_path=\"cartpole_model.pkl\")\n",
    "\n",
    "while True:\n",
    "    obs, done = env.reset(), False\n",
    "    episode_rew = 0\n",
    "    while not done:\n",
    "        env.render()\n",
    "        obs, rew, done, _ = env.step(act(obs[None])[0])\n",
    "        episode_rew += rew\n",
    "    print(\"Episode reward\", episode_rew)"
   ]
  },
  {
   "cell_type": "code",
   "execution_count": null,
   "metadata": {},
   "outputs": [],
   "source": []
  }
 ],
 "metadata": {
  "kernelspec": {
   "display_name": "Python 3",
   "language": "python",
   "name": "python3"
  },
  "language_info": {
   "codemirror_mode": {
    "name": "ipython",
    "version": 3
   },
   "file_extension": ".py",
   "mimetype": "text/x-python",
   "name": "python",
   "nbconvert_exporter": "python",
   "pygments_lexer": "ipython3",
   "version": "3.7.3"
  }
 },
 "nbformat": 4,
 "nbformat_minor": 2
}
