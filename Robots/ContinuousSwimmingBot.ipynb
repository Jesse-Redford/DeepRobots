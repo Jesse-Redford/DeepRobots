{
 "cells": [
  {
   "cell_type": "code",
   "execution_count": 1,
   "metadata": {
    "collapsed": true
   },
   "outputs": [],
   "source": [
    "import numpy as np\n",
    "import random\n",
    "from scipy import integrate\n",
    "from sympy.utilities.iterables import flatten\n",
    "from sympy import *\n",
    "# SET BACKEND\n",
    "# import matplotlib as mpl\n",
    "# mpl.use('TkAgg')\n",
    "import matplotlib.pyplot as plt"
   ]
  },
  {
   "cell_type": "code",
   "execution_count": 2,
   "metadata": {
    "scrolled": true
   },
   "outputs": [],
   "source": [
    "k = symbols('k')\n",
    "L = symbols('L')\n",
    "a1, a2 = symbols('a1 a2')\n",
    "kx, ky, kt = symbols('kx ky kt') \n",
    "a1dot, a2dot = symbols('a1dot a2dot')\n",
    "\n",
    "def get_Fs():\n",
    "    expr1 = k*L*(cos(a1)*kx - sin(a1)*ky + L*sin(a1)*kt)\n",
    "    expr2 = 2*k*L*(sin(a1)*kx + cos(a1)*ky - L*(cos(a1)+1)*kt + L*a1dot)\n",
    "    expr3 = (S(2)/3)*k*(L**3)*(kt-a1dot)\n",
    "    F1 = Matrix([[expr1],[expr2],[expr3]])\n",
    "    expr4 = k*L*(cos(a2)*kx + sin(a2)*ky + L*sin(a2)*kt)\n",
    "    expr5 = 2*k*L*(-sin(a2)*kx + cos(a2)*ky + L*(cos(a2)+1)*kt + L*a2dot)\n",
    "    expr6 = (S(2)/3)*k*(L**3)*(kt+a2dot)\n",
    "    F3 = Matrix([[expr4],[expr5],[expr6]])\n",
    "    F2 = Matrix([[k*L*kx],\n",
    "             [2*k*L*ky],\n",
    "             [S(2)/3*k*(L**3)*kt]])\n",
    "    return F1, F2, F3"
   ]
  },
  {
   "cell_type": "code",
   "execution_count": 3,
   "metadata": {
    "collapsed": true
   },
   "outputs": [],
   "source": [
    "F1, F2, F3 = get_Fs()"
   ]
  },
  {
   "cell_type": "code",
   "execution_count": 4,
   "metadata": {},
   "outputs": [
    {
     "data": {
      "text/plain": [
       "Matrix([\n",
       "[                  L*k*(L*kt*sin(a1) + kx*cos(a1) - ky*sin(a1))],\n",
       "[2*L*k*(L*a1dot - L*kt*(cos(a1) + 1) + kx*sin(a1) + ky*cos(a1))],\n",
       "[                                      2*L**3*k*(-a1dot + kt)/3]])"
      ]
     },
     "execution_count": 4,
     "metadata": {},
     "output_type": "execute_result"
    }
   ],
   "source": [
    "F1"
   ]
  },
  {
   "cell_type": "code",
   "execution_count": 5,
   "metadata": {
    "scrolled": true
   },
   "outputs": [
    {
     "data": {
      "text/plain": [
       "Matrix([\n",
       "[       L*k*kx],\n",
       "[     2*L*k*ky],\n",
       "[2*L**3*k*kt/3]])"
      ]
     },
     "execution_count": 5,
     "metadata": {},
     "output_type": "execute_result"
    }
   ],
   "source": [
    "F2"
   ]
  },
  {
   "cell_type": "code",
   "execution_count": 6,
   "metadata": {
    "scrolled": true
   },
   "outputs": [
    {
     "data": {
      "text/plain": [
       "Matrix([\n",
       "[                  L*k*(L*kt*sin(a2) + kx*cos(a2) + ky*sin(a2))],\n",
       "[2*L*k*(L*a2dot + L*kt*(cos(a2) + 1) - kx*sin(a2) + ky*cos(a2))],\n",
       "[                                       2*L**3*k*(a2dot + kt)/3]])"
      ]
     },
     "execution_count": 6,
     "metadata": {},
     "output_type": "execute_result"
    }
   ],
   "source": [
    "F3"
   ]
  },
  {
   "cell_type": "code",
   "execution_count": 7,
   "metadata": {},
   "outputs": [],
   "source": [
    "mat1 = Matrix([[cos(a1), sin(a1), 0],\n",
    "               [-sin(a1), cos(a1), 0],\n",
    "               [L*sin(a1), -L*(cos(a1)+1), 1]])\n",
    "mat2 = Matrix([[cos(a2), -sin(a2), 0],\n",
    "               [sin(a2), cos(a2), 0],\n",
    "               [L*sin(a2), L*(cos(a2)+1), 1]])"
   ]
  },
  {
   "cell_type": "code",
   "execution_count": 8,
   "metadata": {
    "scrolled": true
   },
   "outputs": [
    {
     "data": {
      "text/plain": [
       "Matrix([\n",
       "[  cos(a1),          sin(a1), 0],\n",
       "[ -sin(a1),          cos(a1), 0],\n",
       "[L*sin(a1), -L*(cos(a1) + 1), 1]])"
      ]
     },
     "execution_count": 8,
     "metadata": {},
     "output_type": "execute_result"
    }
   ],
   "source": [
    "mat1"
   ]
  },
  {
   "cell_type": "code",
   "execution_count": 9,
   "metadata": {},
   "outputs": [
    {
     "data": {
      "text/plain": [
       "Matrix([\n",
       "[  cos(a2),        -sin(a2), 0],\n",
       "[  sin(a2),         cos(a2), 0],\n",
       "[L*sin(a2), L*(cos(a2) + 1), 1]])"
      ]
     },
     "execution_count": 9,
     "metadata": {},
     "output_type": "execute_result"
    }
   ],
   "source": [
    "mat2"
   ]
  },
  {
   "cell_type": "code",
   "execution_count": 10,
   "metadata": {
    "collapsed": true
   },
   "outputs": [],
   "source": [
    "F = simplify(mat1*F1 + F2 + mat2*F3)"
   ]
  },
  {
   "cell_type": "code",
   "execution_count": 11,
   "metadata": {},
   "outputs": [
    {
     "data": {
      "text/plain": [
       "Matrix([\n",
       "[                                                                                                           L*k*(2*L*a1dot*sin(a1) - 2*L*a2dot*sin(a2) - 2*L*kt*sin(a1) - L*kt*sin(2*a1)/2 - 2*L*kt*sin(a2) - L*kt*sin(2*a2)/2 - kx*cos(2*a1)/2 - kx*cos(2*a2)/2 + 4*kx + ky*sin(2*a1)/2 - ky*sin(2*a2)/2)],\n",
       "[                                                                                                           L*k*(2*L*a1dot*cos(a1) + 2*L*a2dot*cos(a2) - 2*L*kt*cos(a1) - L*kt*cos(2*a1)/2 + 2*L*kt*cos(a2) + L*kt*cos(2*a2)/2 + kx*sin(2*a1)/2 - kx*sin(2*a2)/2 + ky*cos(2*a1)/2 + ky*cos(2*a2)/2 + 5*ky)],\n",
       "[L**2*k*(-6*L*a1dot*cos(a1) - 8*L*a1dot + 6*L*a2dot*cos(a2) + 8*L*a2dot + 12*L*kt*cos(a1) + 3*L*kt*cos(2*a1)/2 + 12*L*kt*cos(a2) + 3*L*kt*cos(2*a2)/2 + 27*L*kt - 6*kx*sin(a1) - 3*kx*sin(2*a1)/2 - 6*kx*sin(a2) - 3*kx*sin(2*a2)/2 - 6*ky*cos(a1) - 3*ky*cos(2*a1)/2 + 6*ky*cos(a2) + 3*ky*cos(2*a2)/2)/3]])"
      ]
     },
     "execution_count": 11,
     "metadata": {},
     "output_type": "execute_result"
    }
   ],
   "source": [
    "F"
   ]
  },
  {
   "cell_type": "code",
   "execution_count": 12,
   "metadata": {
    "collapsed": true
   },
   "outputs": [],
   "source": [
    "kx_deriv = flatten(simplify(F.diff(kx)))\n",
    "ky_deriv = flatten(simplify(F.diff(ky)))\n",
    "kt_deriv = flatten(simplify(F.diff(kt)))\n",
    "a1dot_deriv = flatten(simplify(F.diff(a1dot)))\n",
    "a2dot_deriv = flatten(simplify(F.diff(a2dot)))"
   ]
  },
  {
   "cell_type": "code",
   "execution_count": 13,
   "metadata": {},
   "outputs": [
    {
     "data": {
      "text/plain": [
       "Matrix([\n",
       "[                       L*k*(-cos(2*a1) - cos(2*a2) + 8)/2,                             L*k*(sin(2*a1) - sin(2*a2))/2,     -L**2*k*(4*sin(a1) + sin(2*a1) + 4*sin(a2) + sin(2*a2))/2],\n",
       "[                            L*k*(sin(2*a1) - sin(2*a2))/2,                        L*k*(cos(2*a1) + cos(2*a2) + 10)/2,     L**2*k*(-4*cos(a1) - cos(2*a1) + 4*cos(a2) + cos(2*a2))/2],\n",
       "[-L**2*k*(4*sin(a1) + sin(2*a1) + 4*sin(a2) + sin(2*a2))/2, L**2*k*(-4*cos(a1) - cos(2*a1) + 4*cos(a2) + cos(2*a2))/2, L**3*k*(8*cos(a1) + cos(2*a1) + 8*cos(a2) + cos(2*a2) + 18)/2]])"
      ]
     },
     "execution_count": 13,
     "metadata": {},
     "output_type": "execute_result"
    }
   ],
   "source": [
    "w1 = Matrix([kx_deriv,ky_deriv,kt_deriv]).T\n",
    "w1"
   ]
  },
  {
   "cell_type": "code",
   "execution_count": 14,
   "metadata": {
    "scrolled": true
   },
   "outputs": [
    {
     "data": {
      "text/plain": [
       "Matrix([\n",
       "[           2*L**2*k*sin(a1),          -2*L**2*k*sin(a2)],\n",
       "[           2*L**2*k*cos(a1),           2*L**2*k*cos(a2)],\n",
       "[-2*L**3*k*(3*cos(a1) + 4)/3, 2*L**3*k*(3*cos(a2) + 4)/3]])"
      ]
     },
     "execution_count": 14,
     "metadata": {},
     "output_type": "execute_result"
    }
   ],
   "source": [
    "w2 = Matrix([a1dot_deriv,a2dot_deriv]).T\n",
    "w2"
   ]
  },
  {
   "cell_type": "code",
   "execution_count": 15,
   "metadata": {
    "scrolled": true
   },
   "outputs": [
    {
     "data": {
      "text/plain": [
       "Matrix([\n",
       "[                                                                                                                                                                                                                                                                                                                                                                                                                                                                                                                                                                                                                                                                                                                                                                                                                                                                                                                                                                                                                                                                                                                                                                                                                4*L*(72*sin(a1) + 5*sin(2*a1) - 30*sin(a2) - 7*sin(2*a2) + 6*sin(a1 - 2*a2) + 36*sin(a1 - a2) + 12*sin(a1 + a2) + 2*sin(a1 + 2*a2) + 2*sin(2*a1 + a2) + sin(2*a1 + 2*a2))/(3*(-136*cos(a1) - 14*cos(2*a1) - 136*cos(a2) - 14*cos(2*a2) + 4*cos(a1 - 2*a2) + 8*cos(a1 - a2) - 56*cos(a1 + a2) - 12*cos(a1 + 2*a2) + cos(2*a1 - 2*a2) + 4*cos(2*a1 - a2) - 12*cos(2*a1 + a2) - 3*cos(2*a1 + 2*a2) - 282)),                                                                                                                                                                                                                                                                                                                                                                                                                                                                                                                                                                                                                                                                                                                                                                                                                                                                                                                                                                                                                                                                                                                                                                                                               4*L*(-30*sin(a1) - 7*sin(2*a1) + 72*sin(a2) + 5*sin(2*a2) - 36*sin(a1 - a2) + 12*sin(a1 + a2) + 2*sin(a1 + 2*a2) - 6*sin(2*a1 - a2) + 2*sin(2*a1 + a2) + sin(2*a1 + 2*a2))/(408*cos(a1) + 42*cos(2*a1) + 408*cos(a2) + 42*cos(2*a2) - 12*cos(a1 - 2*a2) - 24*cos(a1 - a2) + 168*cos(a1 + a2) + 36*cos(a1 + 2*a2) - 3*cos(2*a1 - 2*a2) - 12*cos(2*a1 - a2) + 36*cos(2*a1 + a2) + 9*cos(2*a1 + 2*a2) + 846)],\n",
       "[4*L*(-32*(-cos(2*a1) + 1)**2 - 56*(-cos(2*a2) + 1)**2*cos(a1) + 12*(-cos(2*a2) + 1)**2*cos(2*a1) - 52*(-cos(2*a2) + 1)**2 + 3596*cos(a1) + 102*cos(2*a1) - 236*cos(3*a1) + 1312*cos(a2) + 144*cos(2*a2) - 88*cos(3*a2) + 6*cos(4*a2) - 4*cos(a1 - 4*a2) - 108*cos(a1 - 3*a2) - 14*cos(a1 - 2*a2) + 1512*cos(a1 - a2) + 1512*cos(a1 + a2) - 150*cos(a1 + 2*a2) - 108*cos(a1 + 3*a2) + 4*cos(a1 + 4*a2) - 3*cos(2*a1 - 4*a2) - 24*cos(2*a1 - 2*a2) - 96*cos(2*a1 - a2) + 40*cos(2*a1 + a2) - 24*cos(2*a1 + 2*a2) - 8*cos(2*a1 + 3*a2) - 3*cos(2*a1 + 4*a2) - 18*cos(3*a1 - 2*a2) - 108*cos(3*a1 - a2) - 108*cos(3*a1 + a2) - 10*cos(3*a1 + 2*a2) - 8*cos(4*a1 + a2) + 666)/(3*(-8*(-cos(2*a1) + 1)**2*(-cos(2*a2) + 1)**2 + 64*(-cos(2*a1) + 1)**2*cos(a2) + 16*(-cos(2*a1) + 1)**2*cos(2*a2) + 112*(-cos(2*a1) + 1)**2 + 64*(-cos(2*a2) + 1)**2*cos(a1) + 16*(-cos(2*a2) + 1)**2*cos(2*a1) + 112*(-cos(2*a2) + 1)**2 - 8224*cos(a1) + 1544*cos(2*a1) + 544*cos(3*a1) + 6*cos(4*a1) - 8224*cos(a2) + 1544*cos(2*a2) + 544*cos(3*a2) + 6*cos(4*a2) - 32*cos(a1 - 4*a2) - 32*cos(a1 - 3*a2) + 912*cos(a1 - 2*a2) + 960*cos(a1 - a2) - 3648*cos(a1 + a2) - 176*cos(a1 + 2*a2) + 224*cos(a1 + 3*a2) + 32*cos(a1 + 4*a2) - 12*cos(2*a1 - 4*a2) - 16*cos(2*a1 - 3*a2) + 224*cos(2*a1 - 2*a2) + 912*cos(2*a1 - a2) - 176*cos(2*a1 + a2) - 32*cos(2*a1 + 2*a2) + 48*cos(2*a1 + 3*a2) + 4*cos(2*a1 + 4*a2) - 16*cos(3*a1 - 2*a2) - 32*cos(3*a1 - a2) + 224*cos(3*a1 + a2) + 48*cos(3*a1 + 2*a2) + cos(4*a1 - 4*a2) - 12*cos(4*a1 - 2*a2) - 32*cos(4*a1 - a2) + 32*cos(4*a1 + a2) + 4*cos(4*a1 + 2*a2) + cos(4*a1 + 4*a2) - 18254)), 4*L*(-56*(-cos(2*a1) + 1)**2*cos(a2) + 12*(-cos(2*a1) + 1)**2*cos(2*a2) - 52*(-cos(2*a1) + 1)**2 - 32*(-cos(2*a2) + 1)**2 + 1312*cos(a1) + 144*cos(2*a1) - 88*cos(3*a1) + 6*cos(4*a1) + 3596*cos(a2) + 102*cos(2*a2) - 236*cos(3*a2) - 108*cos(a1 - 3*a2) - 96*cos(a1 - 2*a2) + 1512*cos(a1 - a2) + 1512*cos(a1 + a2) + 40*cos(a1 + 2*a2) - 108*cos(a1 + 3*a2) - 8*cos(a1 + 4*a2) - 18*cos(2*a1 - 3*a2) - 24*cos(2*a1 - 2*a2) - 14*cos(2*a1 - a2) - 150*cos(2*a1 + a2) - 24*cos(2*a1 + 2*a2) - 10*cos(2*a1 + 3*a2) - 108*cos(3*a1 - a2) - 108*cos(3*a1 + a2) - 8*cos(3*a1 + 2*a2) - 3*cos(4*a1 - 2*a2) - 4*cos(4*a1 - a2) + 4*cos(4*a1 + a2) - 3*cos(4*a1 + 2*a2) + 666)/(3*(-8*(-cos(2*a1) + 1)**2*(-cos(2*a2) + 1)**2 + 64*(-cos(2*a1) + 1)**2*cos(a2) + 16*(-cos(2*a1) + 1)**2*cos(2*a2) + 112*(-cos(2*a1) + 1)**2 + 64*(-cos(2*a2) + 1)**2*cos(a1) + 16*(-cos(2*a2) + 1)**2*cos(2*a1) + 112*(-cos(2*a2) + 1)**2 - 8224*cos(a1) + 1544*cos(2*a1) + 544*cos(3*a1) + 6*cos(4*a1) - 8224*cos(a2) + 1544*cos(2*a2) + 544*cos(3*a2) + 6*cos(4*a2) - 32*cos(a1 - 4*a2) - 32*cos(a1 - 3*a2) + 912*cos(a1 - 2*a2) + 960*cos(a1 - a2) - 3648*cos(a1 + a2) - 176*cos(a1 + 2*a2) + 224*cos(a1 + 3*a2) + 32*cos(a1 + 4*a2) - 12*cos(2*a1 - 4*a2) - 16*cos(2*a1 - 3*a2) + 224*cos(2*a1 - 2*a2) + 912*cos(2*a1 - a2) - 176*cos(2*a1 + a2) - 32*cos(2*a1 + 2*a2) + 48*cos(2*a1 + 3*a2) + 4*cos(2*a1 + 4*a2) - 16*cos(3*a1 - 2*a2) - 32*cos(3*a1 - a2) + 224*cos(3*a1 + a2) + 48*cos(3*a1 + 2*a2) + cos(4*a1 - 4*a2) - 12*cos(4*a1 - 2*a2) - 32*cos(4*a1 - a2) + 32*cos(4*a1 + a2) + 4*cos(4*a1 + 2*a2) + cos(4*a1 + 4*a2) - 18254))],\n",
       "[                                                                                                                                                                                                                                                                                                                                                                                                                                                                                                                                                                                                                                                                                                                                                                                                                                              2*(-3*(-2*(sin(2*a1) - sin(2*a2))*(-7*cos(a1) - 2*cos(2*a1) + 7*cos(a2) + 2*cos(2*a2) + cos(a1 + 2*a2) - cos(2*a1 + a2)) + (4*sin(a1) + sin(2*a1) + 4*sin(a2) + sin(2*a2))*(cos(2*a1) + cos(2*a2) + cos(2*a1 + 2*a2) - 39))*sin(a1) - (3*cos(a1) + 4)*(cos(2*a1) + cos(2*a2) - 8)*(cos(2*a1) + cos(2*a2) + cos(2*a1 + 2*a2) - 39) + 6*(cos(2*a1) + cos(2*a2) - 8)*(-7*cos(a1) - 2*cos(2*a1) + 7*cos(a2) + 2*cos(2*a2) + cos(a1 + 2*a2) - cos(2*a1 + a2))*cos(a1))/(3*(-(cos(2*a1) + cos(2*a2) + cos(2*a1 + 2*a2) - 39)*(-28*cos(a1) + cos(2*a1) - 28*cos(a2) + cos(2*a2) + 4*cos(a1 - 2*a2) + 8*cos(a1 - a2) - 8*cos(a1 + a2) + cos(2*a1 - 2*a2) + 4*cos(2*a1 - a2) - 63) + 4*(-7*cos(a1) - 2*cos(2*a1) + 7*cos(a2) + 2*cos(2*a2) + cos(a1 + 2*a2) - cos(2*a1 + a2))**2)),                                                                                                                                                                                                                                                                                                                                                                                                                                                                                                                                                                                                                                                                                                                                                                                                                                                2*(3*(-2*(sin(2*a1) - sin(2*a2))*(-7*cos(a1) - 2*cos(2*a1) + 7*cos(a2) + 2*cos(2*a2) + cos(a1 + 2*a2) - cos(2*a1 + a2)) + (4*sin(a1) + sin(2*a1) + 4*sin(a2) + sin(2*a2))*(cos(2*a1) + cos(2*a2) + cos(2*a1 + 2*a2) - 39))*sin(a2) + (3*cos(a2) + 4)*(cos(2*a1) + cos(2*a2) - 8)*(cos(2*a1) + cos(2*a2) + cos(2*a1 + 2*a2) - 39) + 6*(cos(2*a1) + cos(2*a2) - 8)*(-7*cos(a1) - 2*cos(2*a1) + 7*cos(a2) + 2*cos(2*a2) + cos(a1 + 2*a2) - cos(2*a1 + a2))*cos(a2))/(3*(-(cos(2*a1) + cos(2*a2) + cos(2*a1 + 2*a2) - 39)*(-28*cos(a1) + cos(2*a1) - 28*cos(a2) + cos(2*a2) + 4*cos(a1 - 2*a2) + 8*cos(a1 - a2) - 8*cos(a1 + a2) + cos(2*a1 - 2*a2) + 4*cos(2*a1 - a2) - 63) + 4*(-7*cos(a1) - 2*cos(2*a1) + 7*cos(a2) + 2*cos(2*a2) + cos(a1 + 2*a2) - cos(2*a1 + a2))**2))]])"
      ]
     },
     "execution_count": 15,
     "metadata": {},
     "output_type": "execute_result"
    }
   ],
   "source": [
    "A = simplify(-(w1**-1)*w2)\n",
    "A"
   ]
  },
  {
   "cell_type": "code",
   "execution_count": 16,
   "metadata": {},
   "outputs": [
    {
     "data": {
      "text/plain": [
       "Matrix([\n",
       "[-0.147221495447667, 0.147221495447667],\n",
       "[ -0.23574154171254, -0.23574154171254],\n",
       "[  0.24157810857398, -0.24157810857398]])"
      ]
     },
     "execution_count": 16,
     "metadata": {},
     "output_type": "execute_result"
    }
   ],
   "source": [
    "N(simplify(A.subs([(k,1),(L,1),(a1,1),(a2,1)])))"
   ]
  },
  {
   "cell_type": "code",
   "execution_count": 17,
   "metadata": {},
   "outputs": [
    {
     "data": {
      "text/plain": [
       "-0.756802495307928"
      ]
     },
     "execution_count": 17,
     "metadata": {},
     "output_type": "execute_result"
    }
   ],
   "source": [
    "N(sin(4))"
   ]
  }
 ],
 "metadata": {
  "kernelspec": {
   "display_name": "Python 3",
   "language": "python",
   "name": "python3"
  },
  "language_info": {
   "codemirror_mode": {
    "name": "ipython",
    "version": 3
   },
   "file_extension": ".py",
   "mimetype": "text/x-python",
   "name": "python",
   "nbconvert_exporter": "python",
   "pygments_lexer": "ipython3",
   "version": "3.6.8"
  }
 },
 "nbformat": 4,
 "nbformat_minor": 2
}
